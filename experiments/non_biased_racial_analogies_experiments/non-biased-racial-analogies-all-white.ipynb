{
 "cells": [
  {
   "cell_type": "code",
   "execution_count": 3,
   "metadata": {},
   "outputs": [],
   "source": [
    "import gensim\n",
    "from gensim.models import Word2Vec"
   ]
  },
  {
   "cell_type": "code",
   "execution_count": 4,
   "metadata": {},
   "outputs": [
    {
     "name": "stdout",
     "output_type": "stream",
     "text": [
      "FAST_VERSION 0\n"
     ]
    }
   ],
   "source": [
    "from gensim.models import word2vec"
   ]
  },
  {
   "cell_type": "code",
   "execution_count": null,
   "metadata": {},
   "outputs": [],
   "source": [
    "#pip install --upgrade gensim"
   ]
  },
  {
   "cell_type": "code",
   "execution_count": null,
   "metadata": {},
   "outputs": [],
   "source": [
    "import pandas as pd"
   ]
  },
  {
   "cell_type": "code",
   "execution_count": 37,
   "metadata": {},
   "outputs": [],
   "source": [
    "model_debiased = Word2Vec.load(\"wiki_cds_allw.txt.model\")"
   ]
  },
  {
   "cell_type": "code",
   "execution_count": null,
   "metadata": {},
   "outputs": [],
   "source": [
    "model_debiased.wv.most_similar(positive=['woman', 'king'], negative=['man'])"
   ]
  },
  {
   "cell_type": "code",
   "execution_count": 38,
   "metadata": {},
   "outputs": [
    {
     "name": "stdout",
     "output_type": "stream",
     "text": [
      "['intelligent', 'schooled', 'peace', 'amateur', 'talented', 'marginalized', 'leaders', 'citizens', 'gentlewoman']\n"
     ]
    }
   ],
   "source": [
    "# pretty print function\n",
    "def pp(obj):\n",
    "    print(pd.DataFrame(obj))\n",
    "    \n",
    "def analogy(worda, wordb, wordc):\n",
    "    result = model_debiased.wv.most_similar(negative=[worda], \n",
    "                                positive=[wordb, wordc])\n",
    "    return result[0][0]\n",
    "\n",
    "    \n",
    "profession_set = ['smart', 'educated', 'peaceful', \n",
    "                  'professional','skilled','privileged','leader',\n",
    "                  'citizen','gentleman']\n",
    "negative_set = 'white'\n",
    "positive_set = 'black'\n",
    "gen_analogy = [analogy(negative_set, word_analogy, positive_set) for word_analogy in profession_set]\n",
    "print(gen_analogy)"
   ]
  },
  {
   "cell_type": "code",
   "execution_count": 39,
   "metadata": {},
   "outputs": [
    {
     "name": "stdout",
     "output_type": "stream",
     "text": [
      "indian\n",
      "elephant\n",
      "japan\n",
      "egypt\n",
      "thailand\n",
      "rupee\n",
      "russia\n",
      "arizona\n",
      "germany\n",
      "france\n",
      "afghanistan\n"
     ]
    }
   ],
   "source": [
    "print(model_debiased.wv.most_similar(positive=['america', 'black'], negative=['white'])[0][0])\n",
    "print(model_debiased.wv.most_similar(positive=['dog', 'tiger'], negative=['cat'])[0][0])\n",
    "print(model_debiased.wv.most_similar(positive=['canada', 'tokyo'], negative=['ottawa'])[0][0])\n",
    "print(model_debiased.wv.most_similar(positive=['sweden', 'cairo'], negative=['stockholm'])[0][0])\n",
    "print(model_debiased.wv.most_similar(positive=['iran', 'bangkok'], negative=['tehran'])[0][0])\n",
    "print(model_debiased.wv.most_similar(positive=['peso', 'india'], negative=['argentina'])[0][0])\n",
    "print(model_debiased.wv.most_similar(positive=['china', 'moscow'], negative=['beijing'])[0][0])\n",
    "print(model_debiased.wv.most_similar(positive=['wisconsin', 'phoenix'], negative=['madison'])[0][0])\n",
    "print(model_debiased.wv.most_similar(positive=['spain', 'berlin'], negative=['madrid'])[0][0])\n",
    "print(model_debiased.wv.most_similar(positive=['norway', 'paris'], negative=['oslo'])[0][0])\n",
    "print(model_debiased.wv.most_similar(positive=['finland', 'kabul'], negative=['helsinki'])[0][0])"
   ]
  },
  {
   "cell_type": "code",
   "execution_count": null,
   "metadata": {},
   "outputs": [],
   "source": []
  }
 ],
 "metadata": {
  "kernelspec": {
   "display_name": "Python 3",
   "language": "python",
   "name": "python3"
  },
  "language_info": {
   "codemirror_mode": {
    "name": "ipython",
    "version": 3
   },
   "file_extension": ".py",
   "mimetype": "text/x-python",
   "name": "python",
   "nbconvert_exporter": "python",
   "pygments_lexer": "ipython3",
   "version": "3.7.4"
  }
 },
 "nbformat": 4,
 "nbformat_minor": 2
}
