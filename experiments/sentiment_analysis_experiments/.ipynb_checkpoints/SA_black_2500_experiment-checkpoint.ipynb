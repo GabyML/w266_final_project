{
 "cells": [
  {
   "cell_type": "code",
   "execution_count": 1,
   "metadata": {},
   "outputs": [],
   "source": [
    "import numpy as np\n",
    "import pandas as pd\n",
    "import matplotlib\n",
    "import seaborn\n",
    "import re\n",
    "import statsmodels.formula.api\n",
    "\n",
    "from sklearn.linear_model import SGDClassifier\n",
    "from sklearn.model_selection import train_test_split\n",
    "from sklearn.metrics import accuracy_score\n",
    "\n",
    "import gensim\n",
    "from gensim.models import Word2Vec"
   ]
  },
  {
   "cell_type": "code",
   "execution_count": 3,
   "metadata": {},
   "outputs": [],
   "source": [
    "# Configure how graphs will show up in this notebook\n",
    "%matplotlib inline\n",
    "seaborn.set_context('notebook', rc={'figure.figsize': (10, 6)}, font_scale=1.5)\n"
   ]
  },
  {
   "cell_type": "markdown",
   "metadata": {},
   "source": [
    "### Define useful functions"
   ]
  },
  {
   "cell_type": "code",
   "execution_count": 5,
   "metadata": {},
   "outputs": [],
   "source": [
    "def get_embedding_dataframe(model_asia_2500):\n",
    "    '''Function to get the embedding dataframe from a word2vec model'''\n",
    "    vocabulary = model_asia_2500.wv.vocab\n",
    "\n",
    "    vectors = {}\n",
    "    for word in vocabulary:\n",
    "        vectors[word] = model_asia_2500[word]\n",
    "        if len(vectors)%100000 == 0:\n",
    "            print(len(vectors))\n",
    "    print('Dataframe Done!')\n",
    "\n",
    "    embedding_a2500 = pd.DataFrame.from_dict(vectors, orient='index')\n",
    "    return embedding_a2500\n",
    "\n",
    "def load_lexicon(filename):\n",
    "    \"\"\"\n",
    "    Load a file from Bing Liu's sentiment lexicon\n",
    "    (https://www.cs.uic.edu/~liub/FBS/sentiment-analysis.html), containing\n",
    "    English words in Latin-1 encoding.\n",
    "    \n",
    "    One file contains a list of positive words, and the other contains\n",
    "    a list of negative words. The files contain comment lines starting\n",
    "    with ';' and blank lines, which should be skipped.\n",
    "    \"\"\"\n",
    "    lexicon = []\n",
    "    with open(filename, encoding='latin-1') as infile:\n",
    "        for line in infile:\n",
    "            line = line.rstrip()\n",
    "            if line and not line.startswith(';'):\n",
    "                lexicon.append(line)\n",
    "    return lexicon\n",
    "\n",
    "def check_in_vocab(pos_words, embedding_a2500):\n",
    "    '''Function to keep positive or negative words that are in the vocabulary'''\n",
    "    counter = 0\n",
    "    checked_words = []\n",
    "    for word in pos_words:\n",
    "        if word not in list(embedding_a2500.index):\n",
    "            print('{} not in list'.format(word))\n",
    "        else:\n",
    "            checked_words.append(word)\n",
    "            #print('{} checked words'.format(len(checked_words)))\n",
    "    return checked_words\n",
    "\n",
    "def get_sa_accuracy(pos_words, neg_words, embedding_a2500):\n",
    "    '''Function to get the accuracy of a sentiment analysis log classifier trained with the passed embedding'''\n",
    "    \n",
    "    # Keep positive and negative words that are in the embedding\n",
    "    #print(\"Start with {} positive words, {} negative words\".format(len(pos_words), len(neg_words)))\n",
    "    pos_words = check_in_vocab(pos_words, embedding_a2500)\n",
    "    neg_words = check_in_vocab(neg_words, embedding_a2500)\n",
    "    print(\"After check: {} positive words, {} negative words\".format(len(pos_words), len(neg_words)))\n",
    "    \n",
    "    # Get positive and negative vectors\n",
    "    pos_vectors = embedding_a2500.loc[pos_words].dropna()\n",
    "    neg_vectors = embedding_a2500.loc[neg_words].dropna()\n",
    "    \n",
    "    vectors = pd.concat([pos_vectors, neg_vectors])\n",
    "    targets = np.array([1 for entry in pos_vectors.index] + [-1 for entry in neg_vectors.index])\n",
    "    labels = list(pos_vectors.index) + list(neg_vectors.index)\n",
    "    \n",
    "    train_vectors, test_vectors, train_targets, test_targets, train_labels, test_labels = \\\n",
    "        train_test_split(vectors, targets, labels, test_size=0.1, random_state=0)\n",
    "    \n",
    "    sentiment_classifier = SGDClassifier(loss='log', random_state=0)\n",
    "    sentiment_classifier.fit(train_vectors, train_targets)\n",
    "    \n",
    "    accuracy = accuracy_score(sentiment_classifier.predict(test_vectors), test_targets)\n",
    "    return accuracy"
   ]
  },
  {
   "cell_type": "code",
   "execution_count": null,
   "metadata": {},
   "outputs": [],
   "source": [
    "### Get all embedding to be evaluated \n",
    "\n",
    "model_black_2500 = Word2Vec.load(\"../wikipedia_corpus/modelos_vectores/debiased_black/wiki_cds_bw_2500.txt.model\")\n",
    "embedding_black_2500 = get_embedding_dataframe(model_black_2500)\n",
    "\n",
    "pos_words = load_lexicon('data/positive-words.txt')\n",
    "neg_words = load_lexicon('data/negative-words.txt')\n",
    "\n",
    "accuracy_b25 = get_sa_accuracy(pos_words, neg_words, embedding_black_2500)\n",
    "print('Debiased black 2500 accuracy: {}'.format(accuracy_b25))"
   ]
  }
 ],
 "metadata": {
  "kernelspec": {
   "display_name": "Python 3",
   "language": "python",
   "name": "python3"
  },
  "language_info": {
   "codemirror_mode": {
    "name": "ipython",
    "version": 3
   },
   "file_extension": ".py",
   "mimetype": "text/x-python",
   "name": "python",
   "nbconvert_exporter": "python",
   "pygments_lexer": "ipython3",
   "version": "3.7.3"
  }
 },
 "nbformat": 4,
 "nbformat_minor": 4
}
